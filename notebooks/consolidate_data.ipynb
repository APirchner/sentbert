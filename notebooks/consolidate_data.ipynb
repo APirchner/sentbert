{
 "cells": [
  {
   "cell_type": "code",
   "execution_count": 8,
   "metadata": {},
   "outputs": [],
   "source": [
    "import pandas as pd"
   ]
  },
  {
   "cell_type": "code",
   "execution_count": 9,
   "metadata": {},
   "outputs": [],
   "source": [
    "train_sets = [\n",
    "    '../data/twitter-2013train-A.txt', '../data/twitter-2013dev-A.txt', '../data/twitter-2013test-A.txt',\n",
    "    '../data/twitter-2014sarcasm-A.txt', '../data/twitter-2014test-A.txt',\n",
    "    '../data/twitter-2015train-A.txt', '../data/twitter-2015test-A.txt',\n",
    "    '../data/twitter-2016train-A.txt', '../data/twitter-2016dev-A.txt', '../data/twitter-2016devtest-A.txt',\n",
    "    '../data/twitter-2016test-A.txt'\n",
    "]"
   ]
  },
  {
   "cell_type": "code",
   "execution_count": 10,
   "metadata": {},
   "outputs": [],
   "source": [
    "train_sets_df = [pd.read_csv(s, sep='\\t',\n",
    "                    header=None, index_col=0, usecols=[0,1,2],\n",
    "                    names=['index', 'label', 'tweet']) for s in train_sets]"
   ]
  },
  {
   "cell_type": "code",
   "execution_count": 11,
   "metadata": {},
   "outputs": [],
   "source": [
    "consol = pd.concat(train_sets_df)"
   ]
  },
  {
   "cell_type": "code",
   "execution_count": 12,
   "metadata": {},
   "outputs": [],
   "source": [
    "consol = consol.sample(frac=1, random_state=1234)"
   ]
  },
  {
   "cell_type": "code",
   "execution_count": 13,
   "metadata": {},
   "outputs": [],
   "source": [
    "train_upper = int(len(consol.index) * 0.85)"
   ]
  },
  {
   "cell_type": "code",
   "execution_count": 14,
   "metadata": {},
   "outputs": [],
   "source": [
    "consol[:train_upper].to_csv('../data/train_consol.txt', header=False, sep='\\t')\n",
    "consol[train_upper:].to_csv('../data/val_consol.txt', header=False, sep='\\t')"
   ]
  }
 ],
 "metadata": {
  "kernelspec": {
   "display_name": "Python (sentbert)",
   "language": "python",
   "name": "env"
  },
  "language_info": {
   "codemirror_mode": {
    "name": "ipython",
    "version": 3
   },
   "file_extension": ".py",
   "mimetype": "text/x-python",
   "name": "python",
   "nbconvert_exporter": "python",
   "pygments_lexer": "ipython3",
   "version": "3.8.6"
  }
 },
 "nbformat": 4,
 "nbformat_minor": 4
}
